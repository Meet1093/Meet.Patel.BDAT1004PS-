{
 "cells": [
  {
   "cell_type": "markdown",
   "id": "c03db764",
   "metadata": {},
   "source": [
    "// Question - 1\n",
    "\n",
    "5  = integer\n",
    "                5.0 = double\n",
    "                5 > 1= Boolean\n",
    "                '5' = character string\n",
    "                5 * 2 = int\n",
    "                '5' * 2 = int string\n",
    "                '5' + '2' = int string\n",
    "                5 / 2 = int\n",
    "                5 % 2 = int double\n",
    "                {5, 2, 1} = array of integers list\n",
    "                5 == 3 = boolean\n",
    "                Pi (the number) = double"
   ]
  },
  {
   "cell_type": "code",
   "execution_count": 3,
   "id": "b44e6209",
   "metadata": {},
   "outputs": [
    {
     "name": "stdout",
     "output_type": "stream",
     "text": [
      "The name Supercalifragilisticexpialidocious contains 34letters.\n",
      "True\n",
      "Supercalifragilisticexpialidocious is the longest word which Contains 34 Letters wi\n"
     ]
    }
   ],
   "source": [
    "        //Question-2\n",
    "\n",
    "        //(A) Count letters in 'Supercalifragilisticexpialidocious'\n",
    "\n",
    "        string name = \"Supercalifragilisticexpialidocious\";\n",
    "        int nameLength = name.Length;\n",
    "        Console.WriteLine(\"The name \" + name + \" contains \" + nameLength + \"letters.\");\n",
    "\n",
    "        Console.WriteLine(name.Contains(\"ice\"));\n",
    "\n",
    "        string[] words = { \"Supercalifragilisticexpialidocious\", \"Honorificabilitudinitatibus\", \"Bababadalgharaghtakamminarronnkonn\" };\n",
    "        string word = \"\";\n",
    "        int ctr = 0;\n",
    "        foreach (String sty in words)\n",
    "        {\n",
    "            if (sty.Length > ctr)\n",
    "            {\n",
    "                word = sty;\n",
    "                ctr = sty.Length;\n",
    "            }\n",
    "        }\n",
    "        Console.WriteLine(word + \" is the longest word which Contains \" + ctr + \" Letters wi\");"
   ]
  },
  {
   "cell_type": "code",
   "execution_count": 4,
   "id": "a7a3e328",
   "metadata": {},
   "outputs": [
    {
     "name": "stderr",
     "output_type": "stream",
     "text": [
      "\r\n",
      "(3,18): error CS1514: { expected\r\n",
      "\r\n",
      "(3,18): error CS1513: } expected\r\n",
      "\r\n",
      "(3,18): error CS7017: Member definition, statement, or end-of-file expected\r\n",
      "\r\n",
      "(3,23): error CS1002: ; expected\r\n",
      "\r\n",
      "(11,5): error CS0106: The modifier 'public' is not valid for this item\r\n",
      "\r\n"
     ]
    },
    {
     "ename": "Cell not executed",
     "evalue": "compilation error",
     "output_type": "error",
     "traceback": []
    }
   ],
   "source": [
    "// Question - 3\n",
    "\n",
    "using System;\n",
    "\n",
    "public class Area.Main\n",
    "{\n",
    "    static double triangleArea(int a, int b, int c)\n",
    "    {\n",
    "        float s = (a + b + c) / 2;\n",
    "        return (double)Math.Sqrt(s * (s - a) * (s - b) * (s - c));\n",
    "    }\n",
    "\n",
    "    public static void Main()\n",
    "    {\n",
    "        Console.WriteLine(\"Area is \" + triangleArea(2, 2, 2));\n",
    "    }\n",
    "}"
   ]
  },
  {
   "cell_type": "code",
   "execution_count": 7,
   "id": "56263875",
   "metadata": {},
   "outputs": [
    {
     "name": "stderr",
     "output_type": "stream",
     "text": [
      "\r\n",
      "(54,5): error CS7017: Member definition, statement, or end-of-file expected\r\n",
      "\r\n",
      "(55,1): error CS7017: Member definition, statement, or end-of-file expected\r\n",
      "\r\n"
     ]
    },
    {
     "ename": "Cell not executed",
     "evalue": "compilation error",
     "output_type": "error",
     "traceback": []
    }
   ],
   "source": [
    "        //Question-4\n",
    "\n",
    "        int[] arr1 = new int[10];\n",
    "        int[] arr2 = new int[10];\n",
    "        int[] arr3 = new int[10];\n",
    "        int i, j = 0, k = 0, n;\n",
    "\n",
    "\n",
    "        Console.Write(\"\\n\\nSeparate odd and even integers in separate arrays:\\n\");\n",
    "        Console.Write(\"------------------------------------------------------\\n\");\n",
    "\n",
    "        Console.Write(\"Input the number of elements to be stored in the array :\");\n",
    "        n = Convert.ToInt32(Console.ReadLine());\n",
    "\n",
    "        Console.Write(\"Input {0} elements in the array :\\n\", n);\n",
    "        for (i = 0; i < n; i++)\n",
    "        {\n",
    "            Console.Write(\"element - {0} : \", i);\n",
    "            arr1[i] = Convert.ToInt32(Console.ReadLine());\n",
    "        }\n",
    "\n",
    "        for (i = 0; i < n; i++)\n",
    "        {\n",
    "            if (arr1[i] % 2 == 0)\n",
    "            {\n",
    "                arr2[j] = arr1[i];\n",
    "                j++;\n",
    "            }\n",
    "            else\n",
    "            {\n",
    "                arr3[k] = arr1[i];\n",
    "                k++;\n",
    "            }\n",
    "        }\n",
    "\n",
    "        Console.Write(\"\\nThe Even elements are : \\n\");\n",
    "        for (i = 0; i < j; i++)\n",
    "        {\n",
    "            Console.Write(\"{0} \", arr2[i]);\n",
    "        }\n",
    "\n",
    "        Console.Write(\"\\nThe Odd elements are :\\n\");\n",
    "        for (i = 0; i < k; i++)\n",
    "        {\n",
    "            Console.Write(\"{0} \", arr3[i]);\n",
    "        }\n",
    "        Console.Write(\"\\n\\n\");"
   ]
  },
  {
   "cell_type": "code",
   "execution_count": 8,
   "id": "2f4979b8",
   "metadata": {},
   "outputs": [
    {
     "name": "stderr",
     "output_type": "stream",
     "text": [
      "\r\n",
      "(13,24): warning CS7022: The entry point of the program is global code; ignoring 'Check.Main()' entry point.\r\n",
      "\r\n"
     ]
    }
   ],
   "source": [
    "//Question - 5A\n",
    "\n",
    "using System;\n",
    "public class Check\n",
    "{\n",
    "    static bool inside(int x, int y, int x1, int y1, int x2, int y2)\n",
    "    {\n",
    "        if (x > x1 && x < x2 && y > y1 && y < y2)\n",
    "            return true;\n",
    "        else\n",
    "            return false;\n",
    "    }\n",
    "    public static void Main()\n",
    "    {\n",
    "            int x = 1, y = 1, x1 = 0, y1 = 0, x2 = 2, y2 = 3;\n",
    "        if (inside(x, y, x1, y1, x2, y2))\n",
    "            Console.Write(\"Given point lies inside\");\n",
    "        else\n",
    "            Console.Write(\"Given point lies outside\");\n",
    "    }\n",
    "}"
   ]
  },
  {
   "cell_type": "code",
   "execution_count": 9,
   "id": "8fc91d76",
   "metadata": {},
   "outputs": [
    {
     "name": "stderr",
     "output_type": "stream",
     "text": [
      "\r\n",
      "(13,22): warning CS7022: The entry point of the program is global code; ignoring 'Check.Main()' entry point.\r\n",
      "\r\n"
     ]
    }
   ],
   "source": [
    "//Question - 5B\n",
    "\n",
    "using System;\n",
    "public class Check\n",
    "{\n",
    "\tstatic bool inside(double x, double y, double x1, double y1, double x2, double y2)\n",
    "\t{\n",
    "\t\tif (x > x1 && x < x2 && y > y1 && y < y2)\n",
    "\t\t\treturn true;\n",
    "\t\telse\n",
    "\t\t\treturn false;\n",
    "\t}\t\n",
    "\t\tpublic static void Main()\n",
    "\t\t{\n",
    "\t\t\tdouble x = 1, y = 1, x1 = 0.3, y1 = 0.5, x2 = 1.1, y2 = 0.7;\n",
    "\t\t\tif (inside(x, y, x1, y1, x2, y2))\n",
    "\t\t\t\tConsole.Write(\"(1,1) Given point lies inside (0.3, 0.5 1.1, 0.7)\\n\");\n",
    "\t\t\telse\n",
    "\t\t\t\tConsole.Write(\"(1,1) Given point lies outside (0.3, 0.5 1.1, 0.7)\\n\");\n",
    "            \n",
    "\t\t\tif (inside(1, 1, 0.5, 0.2, 1.1, 2))\n",
    "\t\t\t\tConsole.Write(\"(1,1) Given point lies inside (0.5, 0.2, 1.1, 2)\");\n",
    "\t\t\telse\n",
    "\t\t\t\tConsole.Write(\"(1,1) Given point lies outside (0.5, 0.2, 1.1, 2)\");\n",
    "\t\t}\n",
    "}"
   ]
  },
  {
   "cell_type": "code",
   "execution_count": null,
   "id": "b20b68ed",
   "metadata": {},
   "outputs": [],
   "source": []
  }
 ],
 "metadata": {
  "kernelspec": {
   "display_name": ".NET (C#)",
   "language": "C#",
   "name": ".net-csharp"
  },
  "language_info": {
   "file_extension": ".cs",
   "mimetype": "text/x-csharp",
   "name": "C#",
   "pygments_lexer": "csharp",
   "version": "8.0"
  }
 },
 "nbformat": 4,
 "nbformat_minor": 5
}
