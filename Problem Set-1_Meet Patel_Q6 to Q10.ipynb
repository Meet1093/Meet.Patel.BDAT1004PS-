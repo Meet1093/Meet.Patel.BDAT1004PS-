{
 "cells": [
  {
   "cell_type": "markdown",
   "id": "b23bdc6f",
   "metadata": {},
   "source": [
    "### Question 6 "
   ]
  },
  {
   "cell_type": "markdown",
   "id": "5e113ee0",
   "metadata": {},
   "source": [
    "You can turn a word into pig-Latin using the following two rules(simplified):\n",
    "\n",
    "• If the word starts with a consonant, move that letter to the end and append\n",
    "'ay'. For example, 'happy' becomes 'appyhay' and 'pencil' becomes 'encilpay'.\n",
    "\n",
    "• If the word starts with a vowel, simply append 'way' to the end of the word.\n",
    "For example, 'enter' becomes 'enterway' and 'other' becomes 'otherway' . For\n",
    "our purposes, there are 5 vowels: a, e, i, o, u (so we count y as a consonant).\n",
    "\n",
    "Write a function pig() that takes a word (i.e., a string) as input and returns its pigLatin form. Your function should still work if the input word contains upper case\n",
    "characters. Your output should always be lower case however"
   ]
  },
  {
   "cell_type": "code",
   "execution_count": 5,
   "id": "e50cb881",
   "metadata": {},
   "outputs": [
    {
     "name": "stdout",
     "output_type": "stream",
     "text": [
      "Insert message to convert in pig latin: Meet Patel\n"
     ]
    },
    {
     "data": {
      "text/plain": [
       "'eet PatelMay'"
      ]
     },
     "execution_count": 5,
     "metadata": {},
     "output_type": "execute_result"
    }
   ],
   "source": [
    "pig_latin = input(\"Insert message to convert in pig latin: \")\n",
    "vowel = 'aeiou'\n",
    "\n",
    "def pig(pig_latin):\n",
    "    if pig_latin[0].lower() in vowel:\n",
    "       return (pig_latin+ \"way\")\n",
    "    else:\n",
    "       return (pig_latin[1:len(pig_latin)]+ pig_latin[0] + \"ay\")\n",
    "pig(pig_latin)"
   ]
  },
  {
   "cell_type": "markdown",
   "id": "579f18b8",
   "metadata": {},
   "source": [
    "### Question 7"
   ]
  },
  {
   "cell_type": "markdown",
   "id": "45b0f2fe",
   "metadata": {},
   "source": [
    "File bloodtype1.txt records blood-types of patients (A, B, AB, O or OO) at a clinic.\n",
    "\n",
    "Write a function bldcount() that reads the file with name name and reports (i.e.,prints) how many patients there are in each bloodtype.\n",
    "bldcount('bloodtype.txt')\n",
    "There are 10 patients of blood type A.\n",
    "There is one patient of blood type B.\n",
    "There are 10 patients of blood type AB.\n",
    "There are 12 patients of blood type O.\n",
    "There are no patients of blood type OO."
   ]
  },
  {
   "cell_type": "code",
   "execution_count": 2,
   "id": "bdf72376",
   "metadata": {},
   "outputs": [
    {
     "name": "stdout",
     "output_type": "stream",
     "text": [
      "There are 13 patients of blood type AB.\n",
      "There are 15 patients of blood type A.\n",
      "There are 14 patients of blood type B.\n",
      "There are 0 patients of blood type OO.\n",
      "There are 15 patients of blood type O.\n"
     ]
    }
   ],
   "source": [
    "file = open(\"bloodtype1.txt\", \"r\")\n",
    "bloodtype1 = file.read()\n",
    "bloodtype1\n",
    "\n",
    "def bldcount(bloodtype1, bld):\n",
    "    return bloodtype1.count(bld)\n",
    "\n",
    "print(\"There are \"+ str(bldcount(bloodtype1,\"AB \")) +\" patients of blood type AB.\")\n",
    "print(\"There are \"+ str(bldcount(bloodtype1,\"A \")) +\" patients of blood type A.\")\n",
    "print(\"There are \"+ str(bldcount(bloodtype1,\"B \")) +\" patients of blood type B.\")\n",
    "print(\"There are \"+ str(bldcount(bloodtype1,\"OO \")) +\" patients of blood type OO.\")\n",
    "print(\"There are \"+ str(bldcount(bloodtype1,\"O \")) +\" patients of blood type O.\")"
   ]
  },
  {
   "cell_type": "markdown",
   "id": "d4b5cd46",
   "metadata": {},
   "source": [
    "### Question 8 "
   ]
  },
  {
   "cell_type": "markdown",
   "id": "8a4ccdf7",
   "metadata": {},
   "source": [
    "Write a function curconv() that takes as input:\n",
    "    \n",
    "1. a currency represented using a string (e.g., 'JPY' for the Japanese Yen or\n",
    "'EUR' for the Euro)\n",
    "2. an amount\n",
    "\n",
    "and then converts and returns the amount in US dollars.\n",
    "\n",
    "curconv('EUR', 100)\n",
    "\n",
    "122.96544\n",
    "\n",
    "curconv('JPY', 100)\n",
    "\n",
    "1.241401\n"
   ]
  },
  {
   "cell_type": "code",
   "execution_count": 3,
   "id": "1d9d5de8",
   "metadata": {},
   "outputs": [
    {
     "name": "stdout",
     "output_type": "stream",
     "text": [
      "88.08\n",
      "11318.300000000001\n",
      "None\n"
     ]
    }
   ],
   "source": [
    "def curConverter (dollars,currency):\n",
    "    amount = None\n",
    "    if currency =='EUR':\n",
    "        amount = dollars* 0.8808\n",
    "    elif currency =='JPY' :\n",
    "        amount = dollars*113.1830\n",
    "    return amount\n",
    "\n",
    "if __name__ == '__main__':\n",
    "    converted = curConverter (100,'EUR')\n",
    "    print (converted)\n",
    "    converted = curConverter (100, 'JPY')\n",
    "    print (converted)\n",
    "    converted = curConverter (100,'KDR')\n",
    "    print (converted)"
   ]
  },
  {
   "cell_type": "markdown",
   "id": "50ee8f3d",
   "metadata": {},
   "source": [
    "### Question 9"
   ]
  },
  {
   "cell_type": "markdown",
   "id": "842cb018",
   "metadata": {},
   "source": [
    "Each of the following will cause an exception (an error). Identify what type of exception each will cause.\n"
   ]
  },
  {
   "cell_type": "markdown",
   "id": "8fc29eda",
   "metadata": {},
   "source": [
    "-->Trying to add incompatible variables, as in adding 6+ 'a'\n",
    "\n",
    "TypeError: unsupported operand type(s) for +: 'int' and 'str'"
   ]
  },
  {
   "cell_type": "markdown",
   "id": "dec25cb3",
   "metadata": {},
   "source": [
    "-->Referring to the 12 A (th) item of a list that has only 10 items\n",
    "\n",
    "IndexError:list index out of range\n"
   ]
  },
  {
   "cell_type": "markdown",
   "id": "8aa6a293",
   "metadata": {},
   "source": [
    "    \n",
    "-->Using a value that is out of range for a function's input, such as calling sqrt(- 1.0)\n",
    "\n",
    "ValueError: math domain error\n",
    "    \n"
   ]
  },
  {
   "cell_type": "markdown",
   "id": "c7aec3c6",
   "metadata": {},
   "source": [
    "-->Using an undeclared variable, such as print t(x) when x has not been defined\n",
    "\n",
    "NameError: name 'x' is not defined"
   ]
  },
  {
   "cell_type": "markdown",
   "id": "570079b5",
   "metadata": {},
   "source": [
    "-->Trying to open a file that does not exist, such as mistyping the file name or looking in the wrong directory.\n",
    "\n",
    "IOError: No such file or directory"
   ]
  },
  {
   "cell_type": "markdown",
   "id": "6d47ad6d",
   "metadata": {},
   "source": [
    "### Question 10"
   ]
  },
  {
   "cell_type": "markdown",
   "id": "13b4e3cc",
   "metadata": {},
   "source": [
    "Encryption is the process of hiding the meaning of a text by substituting letters in the message with other letters, according to some system. If the process is successful, no\n",
    "one but the intended recipient can understand the encrypted message. Cryptanalysis refers to attempts to undo the encryption, even if some details of the encryption are\n",
    "unknown (for example, if an encrypted message has been intercepted). The first step of cryptanalysis is often to build up a table of letter frequencies in the encrypted text.\n",
    "Assume that the string letters is already defined as 'abcdefghijklmnopqrstuvwxyz'. Write a function called frequencies()\n",
    "that takes a string as its only parameter, and returns a list of integers, showing the number of times each character appears in the text. Your function may ignore any\n",
    "characters that are not in letters.\n",
    "\n",
    "frequencies('The quick red fox got bored and went home.')\n",
    "\n",
    "[1, 1, 1, 3, 5, 1, 1, 2, 1, 0, 1, 0, 1, 2, 4, 0, 1, 2, 0, 2,1, 0, 1, 1, 0, 0]\n",
    "\n",
    "frequencies('apple')"
   ]
  },
  {
   "cell_type": "code",
   "execution_count": 4,
   "id": "ce397190",
   "metadata": {},
   "outputs": [
    {
     "name": "stdout",
     "output_type": "stream",
     "text": [
      "Enter String : Meet Patel\n",
      "Resultant Dictionary : \n",
      "{'a': 1, 'b': 0, 'c': 0, 'd': 0, 'e': 3, 'f': 0, 'g': 0, 'h': 0, 'i': 0, 'j': 0, 'k': 0, 'l': 1, 'm': 1, 'n': 0, 'o': 0, 'p': 1, 'q': 0, 'r': 0, 's': 0, 't': 2, 'u': 0, 'v': 0, 'w': 0, 'x': 0, 'y': 0, 'z': 0}\n"
     ]
    }
   ],
   "source": [
    "import string\n",
    "from collections import OrderedDict\n",
    "def frequencies(str1):\n",
    "    dict1=dict(OrderedDict(zip(string.ascii_lowercase,[0]*26)))\n",
    "    \n",
    "    # iterate string to store the charcter's frequencies in dictionary.\n",
    "    for i in range(0,len(str1)):\n",
    "        if str1[i]=='a' or str1[i]=='A':\n",
    "            dict1['a']+=1\n",
    "            \n",
    "        elif str1[i]=='b' or str1[i]=='B':\n",
    "            dict1['b']+=1\n",
    "            \n",
    "        elif str1[i]=='c' or str1[i]=='c':\n",
    "            dict1['c']+=1\n",
    "            \n",
    "        elif str1[i]=='d' or str1[i]=='D':\n",
    "            dict1['d']+=1\n",
    "            \n",
    "        elif str1[i]=='e' or str1[i]=='E':\n",
    "            dict1['e']+=1\n",
    "            \n",
    "        elif str1[i]=='f' or str1[i]=='F':\n",
    "            dict1['f']+=1\n",
    "            \n",
    "        elif str1[i]=='g' or str1[i]=='G':\n",
    "            dict1['g']+=1\n",
    "            \n",
    "        elif str1[i]=='h' or str1[i]=='H':\n",
    "            dict1['h']+=1\n",
    "            \n",
    "        elif str1[i]=='i' or str1[i]=='I':\n",
    "            dict1['i']+=1\n",
    "            \n",
    "        elif str1[i]=='j' or str1[i]=='J':\n",
    "            dict1['j']+=1\n",
    "            \n",
    "        elif str1[i]=='k' or str1[i]=='K':\n",
    "            dict1['k']+=1\n",
    "            \n",
    "        elif str1[i]=='l' or str1[i]=='L':\n",
    "            dict1['l']+=1\n",
    "            \n",
    "        elif str1[i]=='m' or str1[i]=='M':\n",
    "            dict1['m']+=1\n",
    "            \n",
    "        elif str1[i]=='n' or str1[i]=='N':\n",
    "            dict1['n']+=1\n",
    "            \n",
    "        elif str1[i]=='o' or str1[i]=='O':\n",
    "            dict1['o']+=1\n",
    "            \n",
    "        elif str1[i]=='p' or str1[i]=='P':\n",
    "            dict1['p']+=1\n",
    "            \n",
    "        elif str1[i]=='q' or str1[i]=='Q':\n",
    "            dict1['q']+=1\n",
    "            \n",
    "        elif str1[i]=='r' or str1[i]=='R':\n",
    "            dict1['r']+=1\n",
    "            \n",
    "        elif str1[i]=='s' or str1[i]=='S':\n",
    "            dict1['s']+=1\n",
    "            \n",
    "        elif str1[i]=='t' or str1[i]=='T':\n",
    "            dict1['t']+=1\n",
    "            \n",
    "        elif str1[i]=='u' or str1[i]=='U':\n",
    "            dict1['u']+=1\n",
    "            \n",
    "        elif str1[i]=='v' or str1[i]=='V':\n",
    "            dict1['v']+=1\n",
    "            \n",
    "        elif str1[i]=='w' or str1[i]=='W':\n",
    "            dict1['w']+=1\n",
    "            \n",
    "        elif str1[i]=='x' or str1[i]=='X':\n",
    "            dict1['x']+=1\n",
    "            \n",
    "        elif str1[i]=='y' or str1[i]=='Y':\n",
    "            dict1['y']+=1\n",
    "        \n",
    "        elif str1[i]=='z' or str1[i]=='Z':\n",
    "            dict1['z']+=1\n",
    "        \n",
    "    # Return dictionary\n",
    "    return dict1\n",
    "\n",
    "def main():\n",
    "    str1=input(\"Enter String : \")\n",
    "    dict1=frequencies(str1)\n",
    "    print(\"Resultant Dictionary : \")\n",
    "    print(dict1)\n",
    "\n",
    "if __name__==\"__main__\":\n",
    "    main()"
   ]
  },
  {
   "cell_type": "code",
   "execution_count": null,
   "id": "0bdbc83a",
   "metadata": {},
   "outputs": [],
   "source": []
  }
 ],
 "metadata": {
  "kernelspec": {
   "display_name": "Python 3 (ipykernel)",
   "language": "python",
   "name": "python3"
  },
  "language_info": {
   "codemirror_mode": {
    "name": "ipython",
    "version": 3
   },
   "file_extension": ".py",
   "mimetype": "text/x-python",
   "name": "python",
   "nbconvert_exporter": "python",
   "pygments_lexer": "ipython3",
   "version": "3.9.12"
  }
 },
 "nbformat": 4,
 "nbformat_minor": 5
}
